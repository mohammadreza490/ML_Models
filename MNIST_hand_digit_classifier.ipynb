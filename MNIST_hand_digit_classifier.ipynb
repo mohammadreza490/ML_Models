{
  "nbformat": 4,
  "nbformat_minor": 0,
  "metadata": {
    "colab": {
      "name": "hand_digit_classifier_CNNs",
      "provenance": [],
      "authorship_tag": "ABX9TyPHfEAUI6qRJysM+vRZwxMF",
      "include_colab_link": true
    },
    "kernelspec": {
      "name": "python3",
      "display_name": "Python 3"
    },
    "language_info": {
      "name": "python"
    },
    "accelerator": "GPU"
  },
  "cells": [
    {
      "cell_type": "markdown",
      "metadata": {
        "id": "view-in-github",
        "colab_type": "text"
      },
      "source": [
        "<a href=\"https://colab.research.google.com/github/mohammadreza490/ML_Models/blob/main/MNIST_hand_digit_classifier.ipynb\" target=\"_parent\"><img src=\"https://colab.research.google.com/assets/colab-badge.svg\" alt=\"Open In Colab\"/></a>"
      ]
    },
    {
      "cell_type": "code",
      "execution_count": null,
      "metadata": {
        "id": "Dgvt8PCVR3Mk"
      },
      "outputs": [],
      "source": [
        " ! pip install -q kaggle"
      ]
    },
    {
      "cell_type": "code",
      "source": [
        "from google.colab import files"
      ],
      "metadata": {
        "id": "WGTS1aB7TIjS"
      },
      "execution_count": null,
      "outputs": []
    },
    {
      "cell_type": "code",
      "source": [
        "files.upload()"
      ],
      "metadata": {
        "colab": {
          "resources": {
            "http://localhost:8080/nbextensions/google.colab/files.js": {
              "data": "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",
              "ok": true,
              "headers": [
                [
                  "content-type",
                  "application/javascript"
                ]
              ],
              "status": 200,
              "status_text": ""
            }
          },
          "base_uri": "https://localhost:8080/",
          "height": 89
        },
        "id": "9BD97y2VTL63",
        "outputId": "0b55e411-9e82-449e-a82c-8969cbbc713a"
      },
      "execution_count": null,
      "outputs": [
        {
          "output_type": "display_data",
          "data": {
            "text/html": [
              "\n",
              "     <input type=\"file\" id=\"files-179f7379-91de-485e-a741-caeeacb1365b\" name=\"files[]\" multiple disabled\n",
              "        style=\"border:none\" />\n",
              "     <output id=\"result-179f7379-91de-485e-a741-caeeacb1365b\">\n",
              "      Upload widget is only available when the cell has been executed in the\n",
              "      current browser session. Please rerun this cell to enable.\n",
              "      </output>\n",
              "      <script src=\"/nbextensions/google.colab/files.js\"></script> "
            ],
            "text/plain": [
              "<IPython.core.display.HTML object>"
            ]
          },
          "metadata": {}
        },
        {
          "output_type": "stream",
          "name": "stdout",
          "text": [
            "Saving kaggle.json to kaggle (3).json\n"
          ]
        },
        {
          "output_type": "execute_result",
          "data": {
            "text/plain": [
              "{'kaggle.json': b'{\"username\":\"mohammadreza490\",\"key\":\"2995d91b48901a01acbb44fc4be22729\"}'}"
            ]
          },
          "metadata": {},
          "execution_count": 3
        }
      ]
    },
    {
      "cell_type": "code",
      "source": [
        "! cp kaggle.json ~/.kaggle/"
      ],
      "metadata": {
        "id": "Cid3e-adTTht"
      },
      "execution_count": null,
      "outputs": []
    },
    {
      "cell_type": "code",
      "source": [
        " ! chmod 600 ~/.kaggle/kaggle.json"
      ],
      "metadata": {
        "id": "EUiPiBlSTac3"
      },
      "execution_count": null,
      "outputs": []
    },
    {
      "cell_type": "code",
      "source": [
        "! kaggle datasets list"
      ],
      "metadata": {
        "colab": {
          "base_uri": "https://localhost:8080/"
        },
        "id": "pi8KtHQ3TfeL",
        "outputId": "10c311eb-a2d6-4aab-d782-057b242de938"
      },
      "execution_count": null,
      "outputs": [
        {
          "output_type": "stream",
          "name": "stdout",
          "text": [
            "Warning: Looks like you're using an outdated API Version, please consider updating (server 1.5.12 / client 1.5.4)\n",
            "ref                                                         title                                              size  lastUpdated          downloadCount  \n",
            "----------------------------------------------------------  ------------------------------------------------  -----  -------------------  -------------  \n",
            "gpreda/reddit-vaccine-myths                                 Reddit Vaccine Myths                              237KB  2021-12-12 11:59:54          17913  \n",
            "crowww/a-large-scale-fish-dataset                           A Large Scale Fish Dataset                          3GB  2021-04-28 17:03:01          10655  \n",
            "imsparsh/musicnet-dataset                                   MusicNet Dataset                                   22GB  2021-02-18 14:12:19           5304  \n",
            "dhruvildave/wikibooks-dataset                               Wikibooks Dataset                                   2GB  2021-10-22 10:48:21           3829  \n",
            "promptcloud/careerbuilder-job-listing-2020                  Careerbuilder Job Listing 2020                     42MB  2021-03-05 06:59:52           3007  \n",
            "fatiimaezzahra/famous-iconic-women                          Famous Iconic Women                               838MB  2021-02-28 14:56:00           2139  \n",
            "nickuzmenkov/nih-chest-xrays-tfrecords                      NIH Chest X-rays TFRecords                         11GB  2021-03-09 04:49:23           1837  \n",
            "mathurinache/twitter-edge-nodes                             Twitter Edge Nodes                                342MB  2021-03-08 06:43:04           1421  \n",
            "alsgroup/end-als                                            End ALS Kaggle Challenge                           12GB  2021-04-08 12:16:37           1167  \n",
            "simiotic/github-code-snippets                               GitHub Code Snippets                                7GB  2021-03-03 11:34:39            553  \n",
            "coloradokb/dandelionimages                                  DandelionImages                                     4GB  2021-02-19 20:03:47           1091  \n",
            "mathurinache/the-lj-speech-dataset                          The LJ Speech Dataset                               3GB  2021-02-15 09:19:54            558  \n",
            "landrykezebou/lvzhdr-tone-mapping-benchmark-dataset-tmonet  LVZ-HDR Tone Mapping Benchmark Dataset (TMO-Net)   24GB  2021-03-01 05:03:40            273  \n",
            "stuartjames/lights                                          LightS: Light Specularity Dataset                  18GB  2021-02-18 14:32:26            246  \n",
            "nickuzmenkov/ranzcr-clip-kfold-tfrecords                    RANZCR CLiP KFold TFRecords                         2GB  2021-02-21 13:29:51            170  \n",
            "imsparsh/accentdb-core-extended                             AccentDB - Core & Extended                          6GB  2021-02-17 14:22:54            202  \n",
            "datasnaek/youtube-new                                       Trending YouTube Video Statistics                 201MB  2019-06-03 00:56:47         161574  \n",
            "zynicide/wine-reviews                                       Wine Reviews                                       51MB  2017-11-27 17:08:04         151113  \n",
            "residentmario/ramen-ratings                                 Ramen Ratings                                      40KB  2018-01-11 16:04:39          31226  \n",
            "datasnaek/chess                                             Chess Game Dataset (Lichess)                        3MB  2017-09-04 03:09:09          26380  \n"
          ]
        }
      ]
    },
    {
      "cell_type": "code",
      "source": [
        "! kaggle competitions download -c 'Digit-Recognizer'"
      ],
      "metadata": {
        "colab": {
          "base_uri": "https://localhost:8080/"
        },
        "id": "634v2NLjTopN",
        "outputId": "97b24e20-7f0a-4ab0-8c3d-d58c9a8e2af2"
      },
      "execution_count": null,
      "outputs": [
        {
          "output_type": "stream",
          "name": "stdout",
          "text": [
            "Warning: Looks like you're using an outdated API Version, please consider updating (server 1.5.12 / client 1.5.4)\n",
            "train.csv.zip: Skipping, found more recently modified local copy (use --force to force download)\n",
            "test.csv.zip: Skipping, found more recently modified local copy (use --force to force download)\n",
            "sample_submission.csv: Skipping, found more recently modified local copy (use --force to force download)\n"
          ]
        }
      ]
    },
    {
      "cell_type": "code",
      "source": [
        "!unzip train.csv.zip\n"
      ],
      "metadata": {
        "colab": {
          "base_uri": "https://localhost:8080/"
        },
        "id": "k2LK0GCSUMpJ",
        "outputId": "bb644146-132c-4c92-fbd9-806ba9a0ce4a"
      },
      "execution_count": null,
      "outputs": [
        {
          "output_type": "stream",
          "name": "stdout",
          "text": [
            "Archive:  train.csv.zip\n",
            "replace train.csv? [y]es, [n]o, [A]ll, [N]one, [r]ename: y\n",
            "  inflating: train.csv               \n"
          ]
        }
      ]
    },
    {
      "cell_type": "code",
      "source": [
        "!unzip test.csv.zip"
      ],
      "metadata": {
        "colab": {
          "base_uri": "https://localhost:8080/"
        },
        "id": "5qGbbI1bUPzJ",
        "outputId": "a176f486-3d8c-4c2c-8e1c-a03868fba2a3"
      },
      "execution_count": null,
      "outputs": [
        {
          "output_type": "stream",
          "name": "stdout",
          "text": [
            "Archive:  test.csv.zip\n",
            "replace test.csv? [y]es, [n]o, [A]ll, [N]one, [r]ename: y\n",
            "  inflating: test.csv                \n"
          ]
        }
      ]
    },
    {
      "cell_type": "code",
      "source": [
        "import pandas as pd"
      ],
      "metadata": {
        "id": "WECWRnOwUSkP"
      },
      "execution_count": null,
      "outputs": []
    },
    {
      "cell_type": "code",
      "source": [
        "traindf=pd.read_csv(\"train.csv\")\n",
        "testdf = pd.read_csv(\"test.csv\")\n",
        "X_traindf = traindf.drop(\"label\", axis=1)\n",
        "y_traindf = traindf[\"label\"]"
      ],
      "metadata": {
        "id": "nliRqgnJUXrk"
      },
      "execution_count": null,
      "outputs": []
    },
    {
      "cell_type": "code",
      "source": [
        "import numpy as np\n",
        "import tensorflow as tf"
      ],
      "metadata": {
        "id": "kv-E2hktUiqw"
      },
      "execution_count": null,
      "outputs": []
    },
    {
      "cell_type": "code",
      "source": [
        "X_train = tf.constant(X_traindf)\n",
        "y_train = tf.constant(y_traindf)"
      ],
      "metadata": {
        "id": "IG8uNym4UmYT"
      },
      "execution_count": null,
      "outputs": []
    },
    {
      "cell_type": "code",
      "source": [
        "X_train.shape, y_train.shape"
      ],
      "metadata": {
        "colab": {
          "base_uri": "https://localhost:8080/"
        },
        "id": "p4HDirUeVg1P",
        "outputId": "94ee66d0-0b40-4864-f472-0899e0d9d358"
      },
      "execution_count": null,
      "outputs": [
        {
          "output_type": "execute_result",
          "data": {
            "text/plain": [
              "(TensorShape([42000, 784]), TensorShape([42000]))"
            ]
          },
          "metadata": {},
          "execution_count": 53
        }
      ]
    },
    {
      "cell_type": "code",
      "source": [
        "from sklearn.preprocessing import OneHotEncoder\n",
        "ohe = OneHotEncoder()"
      ],
      "metadata": {
        "id": "0tt2nmlLVkiD"
      },
      "execution_count": null,
      "outputs": []
    },
    {
      "cell_type": "code",
      "source": [
        "y_train_ohe = ohe.fit_transform(tf.expand_dims(y_train, axis=1))"
      ],
      "metadata": {
        "id": "OZaxJqiJVyU4"
      },
      "execution_count": null,
      "outputs": []
    },
    {
      "cell_type": "code",
      "source": [
        "y_train_one_hot_encoded = tf.constant(y_train_ohe.toarray())\n",
        "y_train_one_hot_encoded"
      ],
      "metadata": {
        "colab": {
          "base_uri": "https://localhost:8080/"
        },
        "id": "QSPVx0owWTCG",
        "outputId": "a41b7049-84fe-43a4-8756-d910a7c5f634"
      },
      "execution_count": null,
      "outputs": [
        {
          "output_type": "execute_result",
          "data": {
            "text/plain": [
              "<tf.Tensor: shape=(42000, 10), dtype=float64, numpy=\n",
              "array([[0., 1., 0., ..., 0., 0., 0.],\n",
              "       [1., 0., 0., ..., 0., 0., 0.],\n",
              "       [0., 1., 0., ..., 0., 0., 0.],\n",
              "       ...,\n",
              "       [0., 0., 0., ..., 1., 0., 0.],\n",
              "       [0., 0., 0., ..., 0., 0., 0.],\n",
              "       [0., 0., 0., ..., 0., 0., 1.]])>"
            ]
          },
          "metadata": {},
          "execution_count": 56
        }
      ]
    },
    {
      "cell_type": "code",
      "source": [
        "import matplotlib.pyplot as plt\n",
        "import random\n",
        "#Let's visualise some of the digits\n",
        "def plot_random_sample():\n",
        "\n",
        "  random_index = random.randint(0, 42001)\n",
        "  plt.imshow(tf.reshape(X_train, (42000, 28, 28))[random_index], cmap=\"Greys\")\n",
        "  plt.xlabel(f\"The sample label is {y_train[random_index].numpy()}\")"
      ],
      "metadata": {
        "id": "ch8XyOhuYGkB"
      },
      "execution_count": null,
      "outputs": []
    },
    {
      "cell_type": "code",
      "source": [
        "plot_random_sample()"
      ],
      "metadata": {
        "colab": {
          "base_uri": "https://localhost:8080/",
          "height": 278
        },
        "id": "xtJRNW4VZcfl",
        "outputId": "0f34957d-2edc-49f6-e02a-4ad6151aa780"
      },
      "execution_count": null,
      "outputs": [
        {
          "output_type": "display_data",
          "data": {
            "image/png": "[encoded data removed]",
            "text/plain": [
              "<Figure size 432x288 with 1 Axes>"
            ]
          },
          "metadata": {
            "needs_background": "light"
          }
        }
      ]
    },
    {
      "cell_type": "code",
      "source": [
        "X_train, y_train_one_hot_encoded"
      ],
      "metadata": {
        "colab": {
          "base_uri": "https://localhost:8080/"
        },
        "id": "GdBkX8hUlZoH",
        "outputId": "12bd6e8b-f5b0-4e9b-d702-1b6c18ff5401"
      },
      "execution_count": null,
      "outputs": [
        {
          "output_type": "execute_result",
          "data": {
            "text/plain": [
              "(<tf.Tensor: shape=(42000, 784), dtype=int64, numpy=\n",
              " array([[0, 0, 0, ..., 0, 0, 0],\n",
              "        [0, 0, 0, ..., 0, 0, 0],\n",
              "        [0, 0, 0, ..., 0, 0, 0],\n",
              "        ...,\n",
              "        [0, 0, 0, ..., 0, 0, 0],\n",
              "        [0, 0, 0, ..., 0, 0, 0],\n",
              "        [0, 0, 0, ..., 0, 0, 0]])>,\n",
              " <tf.Tensor: shape=(42000, 10), dtype=float64, numpy=\n",
              " array([[0., 1., 0., ..., 0., 0., 0.],\n",
              "        [1., 0., 0., ..., 0., 0., 0.],\n",
              "        [0., 1., 0., ..., 0., 0., 0.],\n",
              "        ...,\n",
              "        [0., 0., 0., ..., 1., 0., 0.],\n",
              "        [0., 0., 0., ..., 0., 0., 0.],\n",
              "        [0., 0., 0., ..., 0., 0., 1.]])>)"
            ]
          },
          "metadata": {},
          "execution_count": 59
        }
      ]
    },
    {
      "cell_type": "code",
      "source": [
        "from sklearn.model_selection import train_test_split\n",
        "X_train, X_validation, y_train, y_validation = train_test_split(np.array(X_train), np.array(y_train_one_hot_encoded), train_size=0.8, random_state=42)\n",
        "#this doesn't work with tensors. converted to numpy array and it worked\n"
      ],
      "metadata": {
        "id": "SkT26FPHjP6F"
      },
      "execution_count": null,
      "outputs": []
    },
    {
      "cell_type": "code",
      "source": [
        "X_train = tf.constant(X_train)\n",
        "X_validation = tf.constant(X_validation)\n",
        "y_train = tf.constant(y_train)\n",
        "y_validation = tf.constant(y_validation)"
      ],
      "metadata": {
        "id": "PSOAaQVJnOdM"
      },
      "execution_count": null,
      "outputs": []
    },
    {
      "cell_type": "code",
      "source": [
        "#Let's build our model\n",
        "model_1 = tf.keras.Sequential([\n",
        "          tf.keras.layers.InputLayer(input_shape=(784, )),\n",
        "          tf.keras.layers.Dense(10, activation=\"relu\"),\n",
        "          tf.keras.layers.Dense(10, activation=\"relu\"),\n",
        "          tf.keras.layers.Dense(10, activation=\"sigmoid\"),\n",
        "])\n",
        "\n",
        "model_1.compile(loss=tf.keras.losses.categorical_crossentropy,\n",
        "                optimizer=tf.keras.optimizers.Adam(),\n",
        "                metrics=[\"acc\"])\n",
        "\n"
      ],
      "metadata": {
        "id": "32vzHJmeZxad"
      },
      "execution_count": null,
      "outputs": []
    },
    {
      "cell_type": "code",
      "source": [
        ""
      ],
      "metadata": {
        "id": "bRXMzy3RoV2h"
      },
      "execution_count": null,
      "outputs": []
    },
    {
      "cell_type": "code",
      "source": [
        "history_1 = model_1.fit(X_train, y_train, epochs=30, batch_size= 32,  validation_data=(X_validation, y_validation),)"
      ],
      "metadata": {
        "colab": {
          "base_uri": "https://localhost:8080/"
        },
        "id": "cglPhkfwdHry",
        "outputId": "e350c8a9-bba3-410b-cf1d-5f813a8299fe"
      },
      "execution_count": null,
      "outputs": [
        {
          "output_type": "stream",
          "name": "stdout",
          "text": [
            "Epoch 1/30\n",
            "1050/1050 [==============================] - 10s 9ms/step - loss: 2.2619 - acc: 0.4560 - val_loss: 1.1626 - val_acc: 0.6587\n",
            "Epoch 2/30\n",
            "1050/1050 [==============================] - 9s 9ms/step - loss: 0.9530 - acc: 0.7256 - val_loss: 0.8565 - val_acc: 0.7461\n",
            "Epoch 3/30\n",
            "1050/1050 [==============================] - 9s 9ms/step - loss: 0.7333 - acc: 0.7944 - val_loss: 0.7073 - val_acc: 0.8067\n",
            "Epoch 4/30\n",
            "1050/1050 [==============================] - 8s 7ms/step - loss: 0.6179 - acc: 0.8282 - val_loss: 0.6120 - val_acc: 0.8404\n",
            "Epoch 5/30\n",
            "1050/1050 [==============================] - 8s 8ms/step - loss: 0.5317 - acc: 0.8557 - val_loss: 0.5633 - val_acc: 0.8464\n",
            "Epoch 6/30\n",
            "1050/1050 [==============================] - 8s 8ms/step - loss: 0.4755 - acc: 0.8724 - val_loss: 0.4625 - val_acc: 0.8765\n",
            "Epoch 7/30\n",
            "1050/1050 [==============================] - 8s 8ms/step - loss: 0.4339 - acc: 0.8835 - val_loss: 0.4398 - val_acc: 0.8817\n",
            "Epoch 8/30\n",
            "1050/1050 [==============================] - 8s 8ms/step - loss: 0.4206 - acc: 0.8877 - val_loss: 0.4270 - val_acc: 0.8846\n",
            "Epoch 9/30\n",
            "1050/1050 [==============================] - 9s 9ms/step - loss: 0.4023 - acc: 0.8922 - val_loss: 0.4478 - val_acc: 0.8774\n",
            "Epoch 10/30\n",
            "1050/1050 [==============================] - 6s 6ms/step - loss: 0.3881 - acc: 0.8940 - val_loss: 0.4229 - val_acc: 0.8875\n",
            "Epoch 11/30\n",
            "1050/1050 [==============================] - 9s 9ms/step - loss: 0.3746 - acc: 0.8989 - val_loss: 0.4273 - val_acc: 0.8862\n",
            "Epoch 12/30\n",
            "1050/1050 [==============================] - 10s 9ms/step - loss: 0.3581 - acc: 0.9015 - val_loss: 0.4172 - val_acc: 0.8900\n",
            "Epoch 13/30\n",
            "1050/1050 [==============================] - 8s 7ms/step - loss: 0.3600 - acc: 0.9010 - val_loss: 0.4098 - val_acc: 0.8908\n",
            "Epoch 14/30\n",
            "1050/1050 [==============================] - 7s 7ms/step - loss: 0.3515 - acc: 0.9013 - val_loss: 0.4503 - val_acc: 0.8712\n",
            "Epoch 15/30\n",
            "1050/1050 [==============================] - 7s 7ms/step - loss: 0.3343 - acc: 0.9068 - val_loss: 0.3924 - val_acc: 0.8921\n",
            "Epoch 16/30\n",
            "1050/1050 [==============================] - 9s 8ms/step - loss: 0.3294 - acc: 0.9073 - val_loss: 0.3787 - val_acc: 0.9013\n",
            "Epoch 17/30\n",
            "1050/1050 [==============================] - 10s 9ms/step - loss: 0.3205 - acc: 0.9100 - val_loss: 0.4289 - val_acc: 0.8821\n",
            "Epoch 18/30\n",
            "1050/1050 [==============================] - 7s 7ms/step - loss: 0.3197 - acc: 0.9109 - val_loss: 0.3691 - val_acc: 0.8939\n",
            "Epoch 19/30\n",
            "1050/1050 [==============================] - 6s 6ms/step - loss: 0.3080 - acc: 0.9130 - val_loss: 0.3731 - val_acc: 0.9021\n",
            "Epoch 20/30\n",
            "1050/1050 [==============================] - 5s 5ms/step - loss: 0.3111 - acc: 0.9118 - val_loss: 0.3594 - val_acc: 0.8946\n",
            "Epoch 21/30\n",
            "1050/1050 [==============================] - 5s 5ms/step - loss: 0.3007 - acc: 0.9157 - val_loss: 0.4078 - val_acc: 0.9023\n",
            "Epoch 22/30\n",
            "1050/1050 [==============================] - 5s 5ms/step - loss: 0.2975 - acc: 0.9170 - val_loss: 0.3741 - val_acc: 0.9030\n",
            "Epoch 23/30\n",
            "1050/1050 [==============================] - 5s 5ms/step - loss: 0.2973 - acc: 0.9163 - val_loss: 0.3650 - val_acc: 0.9044\n",
            "Epoch 24/30\n",
            "1050/1050 [==============================] - 5s 5ms/step - loss: 0.2929 - acc: 0.9167 - val_loss: 0.3876 - val_acc: 0.9002\n",
            "Epoch 25/30\n",
            "1050/1050 [==============================] - 5s 5ms/step - loss: 0.2941 - acc: 0.9176 - val_loss: 0.3818 - val_acc: 0.9044\n",
            "Epoch 26/30\n",
            "1050/1050 [==============================] - 5s 5ms/step - loss: 0.2861 - acc: 0.9185 - val_loss: 0.3697 - val_acc: 0.9027\n",
            "Epoch 27/30\n",
            "1050/1050 [==============================] - 5s 5ms/step - loss: 0.2847 - acc: 0.9187 - val_loss: 0.3844 - val_acc: 0.8976\n",
            "Epoch 28/30\n",
            "1050/1050 [==============================] - 5s 4ms/step - loss: 0.2883 - acc: 0.9184 - val_loss: 0.3646 - val_acc: 0.9057\n",
            "Epoch 29/30\n",
            "1050/1050 [==============================] - 5s 5ms/step - loss: 0.2799 - acc: 0.9203 - val_loss: 0.3641 - val_acc: 0.9061\n",
            "Epoch 30/30\n",
            "1050/1050 [==============================] - 6s 5ms/step - loss: 0.2868 - acc: 0.9192 - val_loss: 0.3745 - val_acc: 0.9045\n"
          ]
        }
      ]
    },
    {
      "cell_type": "code",
      "source": [
        ""
      ],
      "metadata": {
        "id": "LIsP_UvKoxqe"
      },
      "execution_count": null,
      "outputs": []
    },
    {
      "cell_type": "code",
      "source": [
        "pd.DataFrame(history_1.history).plot()"
      ],
      "metadata": {
        "colab": {
          "base_uri": "https://localhost:8080/",
          "height": 282
        },
        "id": "7fYQ1vg6fnQS",
        "outputId": "6676ae77-06ca-41bb-c1ad-f92d24db12ce"
      },
      "execution_count": null,
      "outputs": [
        {
          "output_type": "execute_result",
          "data": {
            "text/plain": [
              "<matplotlib.axes._subplots.AxesSubplot at 0x7fccf2328f50>"
            ]
          },
          "metadata": {},
          "execution_count": 67
        },
        {
          "output_type": "display_data",
          "data": {
            "image/png": "[encoded data removed]",
            "text/plain": [
              "<Figure size 432x288 with 1 Axes>"
            ]
          },
          "metadata": {
            "needs_background": "light"
          }
        }
      ]
    },
    {
      "cell_type": "code",
      "source": [
        "X_test= tf.constant(testdf)"
      ],
      "metadata": {
        "id": "7yEkD0Utfs_N"
      },
      "execution_count": null,
      "outputs": []
    },
    {
      "cell_type": "code",
      "source": [
        "model_1.evaluate(X_validation, y_validation)"
      ],
      "metadata": {
        "colab": {
          "base_uri": "https://localhost:8080/"
        },
        "id": "gAm5SAvZf5wV",
        "outputId": "0197b550-6de3-4733-d2f9-d10ade223376"
      },
      "execution_count": null,
      "outputs": [
        {
          "output_type": "stream",
          "name": "stdout",
          "text": [
            "263/263 [==============================] - 2s 6ms/step - loss: 0.3745 - acc: 0.9045\n"
          ]
        },
        {
          "output_type": "execute_result",
          "data": {
            "text/plain": [
              "[0.3744618594646454, 0.9045237898826599]"
            ]
          },
          "metadata": {},
          "execution_count": 69
        }
      ]
    },
    {
      "cell_type": "code",
      "source": [
        "#let's normalize the data and train again\n",
        "X_train = tf.cast(X_train, tf.float64) /255.\n",
        "X_validation = tf.cast(X_validation, tf.float64) /255."
      ],
      "metadata": {
        "id": "mgS_mJJ8pxNp"
      },
      "execution_count": null,
      "outputs": []
    },
    {
      "cell_type": "code",
      "source": [
        "#Let's build our model\n",
        "model_1_normalised = tf.keras.Sequential([\n",
        "          tf.keras.layers.InputLayer(input_shape=(784, )),\n",
        "          tf.keras.layers.Dense(10, activation=\"relu\"),\n",
        "          tf.keras.layers.Dense(10, activation=\"relu\"),\n",
        "          tf.keras.layers.Dense(10, activation=\"sigmoid\"),\n",
        "])\n",
        "\n",
        "model_1_normalised.compile(loss=tf.keras.losses.categorical_crossentropy,\n",
        "                optimizer=tf.keras.optimizers.Adam(),\n",
        "                metrics=[\"acc\"])\n",
        "\n"
      ],
      "metadata": {
        "id": "TxJqDC2AqIk4"
      },
      "execution_count": null,
      "outputs": []
    },
    {
      "cell_type": "code",
      "source": [
        "history_1_normalised = model_1_normalised.fit(X_train, y_train, epochs=30, batch_size= 32,  validation_data=(X_validation, y_validation),)"
      ],
      "metadata": {
        "colab": {
          "base_uri": "https://localhost:8080/"
        },
        "id": "qEGZozAuqMhS",
        "outputId": "87f920e2-89dd-4ce6-d8af-2aa1a20be8ec"
      },
      "execution_count": null,
      "outputs": [
        {
          "output_type": "stream",
          "name": "stdout",
          "text": [
            "Epoch 1/30\n",
            "1050/1050 [==============================] - 9s 8ms/step - loss: 0.8186 - acc: 0.7380 - val_loss: 0.4088 - val_acc: 0.8802\n",
            "Epoch 2/30\n",
            "1050/1050 [==============================] - 8s 7ms/step - loss: 0.3579 - acc: 0.8952 - val_loss: 0.3311 - val_acc: 0.9031\n",
            "Epoch 3/30\n",
            "1050/1050 [==============================] - 8s 7ms/step - loss: 0.2951 - acc: 0.9133 - val_loss: 0.2984 - val_acc: 0.9149\n",
            "Epoch 4/30\n",
            "1050/1050 [==============================] - 7s 7ms/step - loss: 0.2572 - acc: 0.9236 - val_loss: 0.2723 - val_acc: 0.9213\n",
            "Epoch 5/30\n",
            "1050/1050 [==============================] - 7s 7ms/step - loss: 0.2354 - acc: 0.9306 - val_loss: 0.2659 - val_acc: 0.9233\n",
            "Epoch 6/30\n",
            "1050/1050 [==============================] - 5s 5ms/step - loss: 0.2199 - acc: 0.9360 - val_loss: 0.2503 - val_acc: 0.9285\n",
            "Epoch 7/30\n",
            "1050/1050 [==============================] - 5s 5ms/step - loss: 0.2077 - acc: 0.9385 - val_loss: 0.2636 - val_acc: 0.9225\n",
            "Epoch 8/30\n",
            "1050/1050 [==============================] - 5s 5ms/step - loss: 0.1994 - acc: 0.9414 - val_loss: 0.2357 - val_acc: 0.9318\n",
            "Epoch 9/30\n",
            "1050/1050 [==============================] - 5s 4ms/step - loss: 0.1904 - acc: 0.9437 - val_loss: 0.2316 - val_acc: 0.9349\n",
            "Epoch 10/30\n",
            "1050/1050 [==============================] - 5s 5ms/step - loss: 0.1828 - acc: 0.9462 - val_loss: 0.2308 - val_acc: 0.9327\n",
            "Epoch 11/30\n",
            "1050/1050 [==============================] - 5s 5ms/step - loss: 0.1796 - acc: 0.9467 - val_loss: 0.2266 - val_acc: 0.9370\n",
            "Epoch 12/30\n",
            "1050/1050 [==============================] - 5s 5ms/step - loss: 0.1727 - acc: 0.9499 - val_loss: 0.2258 - val_acc: 0.9345\n",
            "Epoch 13/30\n",
            "1050/1050 [==============================] - 5s 4ms/step - loss: 0.1692 - acc: 0.9495 - val_loss: 0.2316 - val_acc: 0.9332\n",
            "Epoch 14/30\n",
            "1050/1050 [==============================] - 5s 5ms/step - loss: 0.1638 - acc: 0.9519 - val_loss: 0.2210 - val_acc: 0.9375\n",
            "Epoch 15/30\n",
            "1050/1050 [==============================] - 5s 5ms/step - loss: 0.1607 - acc: 0.9526 - val_loss: 0.2252 - val_acc: 0.9365\n",
            "Epoch 16/30\n",
            "1050/1050 [==============================] - 5s 5ms/step - loss: 0.1585 - acc: 0.9534 - val_loss: 0.2265 - val_acc: 0.9360\n",
            "Epoch 17/30\n",
            "1050/1050 [==============================] - 5s 5ms/step - loss: 0.1552 - acc: 0.9528 - val_loss: 0.2249 - val_acc: 0.9369\n",
            "Epoch 18/30\n",
            "1050/1050 [==============================] - 5s 5ms/step - loss: 0.1522 - acc: 0.9552 - val_loss: 0.2263 - val_acc: 0.9356\n",
            "Epoch 19/30\n",
            "1050/1050 [==============================] - 5s 5ms/step - loss: 0.1498 - acc: 0.9560 - val_loss: 0.2235 - val_acc: 0.9371\n",
            "Epoch 20/30\n",
            "1050/1050 [==============================] - 5s 5ms/step - loss: 0.1471 - acc: 0.9567 - val_loss: 0.2270 - val_acc: 0.9381\n",
            "Epoch 21/30\n",
            "1050/1050 [==============================] - 5s 5ms/step - loss: 0.1463 - acc: 0.9562 - val_loss: 0.2246 - val_acc: 0.9386\n",
            "Epoch 22/30\n",
            "1050/1050 [==============================] - 5s 5ms/step - loss: 0.1426 - acc: 0.9566 - val_loss: 0.2247 - val_acc: 0.9381\n",
            "Epoch 23/30\n",
            "1050/1050 [==============================] - 5s 4ms/step - loss: 0.1421 - acc: 0.9572 - val_loss: 0.2280 - val_acc: 0.9381\n",
            "Epoch 24/30\n",
            "1050/1050 [==============================] - 5s 4ms/step - loss: 0.1398 - acc: 0.9576 - val_loss: 0.2271 - val_acc: 0.9381\n",
            "Epoch 25/30\n",
            "1050/1050 [==============================] - 5s 4ms/step - loss: 0.1375 - acc: 0.9585 - val_loss: 0.2324 - val_acc: 0.9364\n",
            "Epoch 26/30\n",
            "1050/1050 [==============================] - 5s 4ms/step - loss: 0.1366 - acc: 0.9593 - val_loss: 0.2343 - val_acc: 0.9351\n",
            "Epoch 27/30\n",
            "1050/1050 [==============================] - 5s 5ms/step - loss: 0.1340 - acc: 0.9605 - val_loss: 0.2402 - val_acc: 0.9339\n",
            "Epoch 28/30\n",
            "1050/1050 [==============================] - 5s 4ms/step - loss: 0.1333 - acc: 0.9609 - val_loss: 0.2276 - val_acc: 0.9389\n",
            "Epoch 29/30\n",
            "1050/1050 [==============================] - 5s 5ms/step - loss: 0.1306 - acc: 0.9606 - val_loss: 0.2356 - val_acc: 0.9346\n",
            "Epoch 30/30\n",
            "1050/1050 [==============================] - 5s 5ms/step - loss: 0.1320 - acc: 0.9607 - val_loss: 0.2310 - val_acc: 0.9376\n"
          ]
        }
      ]
    },
    {
      "cell_type": "markdown",
      "source": [
        "we can see the model is learning much more quickly with normalised data"
      ],
      "metadata": {
        "id": "lJ6Vn48Qq7a8"
      }
    },
    {
      "cell_type": "code",
      "source": [
        "plt.figure(figsize=(10, 10))\n",
        "plt.subplot(4, 2, 1)\n",
        "\n",
        "plt.plot(history_1_normalised.history[\"loss\"], label=\"loss_normalised\")\n",
        "plt.plot(history_1.history[\"loss\"], label=\"loss\")\n",
        "plt.legend()\n",
        "plt.subplot(4, 2, 2)\n",
        "\n",
        "plt.plot(history_1_normalised.history[\"acc\"], label=\"acc_normalised\")\n",
        "plt.plot(history_1.history[\"acc\"], label=\"acc\")\n",
        "plt.legend()\n",
        "\n",
        "plt.subplot(4, 2, 3)\n",
        "\n",
        "plt.plot(history_1_normalised.history[\"val_loss\"], label=\"val_loss_normalised\")\n",
        "plt.plot(history_1.history[\"val_loss\"], label=\"val_loss\")\n",
        "plt.legend()\n",
        "plt.subplot(4, 2, 4)\n",
        "\n",
        "plt.plot(history_1_normalised.history[\"val_acc\"], label=\"val_acc_normalised\")\n",
        "plt.plot(history_1.history[\"val_acc\"], label=\"val_acc\")\n",
        "plt.legend()"
      ],
      "metadata": {
        "colab": {
          "base_uri": "https://localhost:8080/",
          "height": 325
        },
        "id": "FQnWytIqq_Xx",
        "outputId": "97c43748-87a8-49f4-d001-d1898fb6dfbb"
      },
      "execution_count": null,
      "outputs": [
        {
          "output_type": "execute_result",
          "data": {
            "text/plain": [
              "<matplotlib.legend.Legend at 0x7fcd016771d0>"
            ]
          },
          "metadata": {},
          "execution_count": 87
        },
        {
          "output_type": "display_data",
          "data": {
            "image/png": "[encoded data removed]",
            "text/plain": [
              "<Figure size 720x720 with 4 Axes>"
            ]
          },
          "metadata": {
            "needs_background": "light"
          }
        }
      ]
    },
    {
      "cell_type": "markdown",
      "source": [
        "Normalised model is performing much better than the other one"
      ],
      "metadata": {
        "id": "tABy7RNtsMKQ"
      }
    },
    {
      "cell_type": "code",
      "source": [
        "#Let's build a cnn model\n",
        "model_2 = tf.keras.Sequential([\n",
        "          tf.keras.layers.InputLayer(input_shape=(28, 28, 1)),\n",
        "          tf.keras.layers.Conv2D(filters=10, kernel_size=3, padding=\"same\",),\n",
        "          tf.keras.layers.MaxPooling2D(),\n",
        "          tf.keras.layers.Conv2D(filters=10, kernel_size=3, padding=\"same\",),\n",
        "          tf.keras.layers.MaxPooling2D(),\n",
        "          tf.keras.layers.Conv2D(filters=10, kernel_size=3, padding=\"same\",),\n",
        "          tf.keras.layers.MaxPooling2D(),\n",
        "          tf.keras.layers.Flatten(),\n",
        "          tf.keras.layers.Dense(10, activation=\"sigmoid\"),\n",
        "         \n",
        "])\n",
        "\n",
        "model_2.compile(loss=tf.keras.losses.categorical_crossentropy,\n",
        "                optimizer=tf.keras.optimizers.Adam(),\n",
        "                metrics=[\"acc\"])\n",
        "\n"
      ],
      "metadata": {
        "id": "D2vxIRFKoynk"
      },
      "execution_count": null,
      "outputs": []
    },
    {
      "cell_type": "code",
      "source": [
        ""
      ],
      "metadata": {
        "colab": {
          "base_uri": "https://localhost:8080/"
        },
        "id": "vz-K-9qVtgU-",
        "outputId": "b33619af-f090-4957-869b-8c26dc7cbaaa"
      },
      "execution_count": null,
      "outputs": [
        {
          "output_type": "execute_result",
          "data": {
            "text/plain": [
              "<tf.Tensor: shape=(33600, 28, 28), dtype=float64, numpy=\n",
              "array([[[0., 0., 0., ..., 0., 0., 0.],\n",
              "        [0., 0., 0., ..., 0., 0., 0.],\n",
              "        [0., 0., 0., ..., 0., 0., 0.],\n",
              "        ...,\n",
              "        [0., 0., 0., ..., 0., 0., 0.],\n",
              "        [0., 0., 0., ..., 0., 0., 0.],\n",
              "        [0., 0., 0., ..., 0., 0., 0.]],\n",
              "\n",
              "       [[0., 0., 0., ..., 0., 0., 0.],\n",
              "        [0., 0., 0., ..., 0., 0., 0.],\n",
              "        [0., 0., 0., ..., 0., 0., 0.],\n",
              "        ...,\n",
              "        [0., 0., 0., ..., 0., 0., 0.],\n",
              "        [0., 0., 0., ..., 0., 0., 0.],\n",
              "        [0., 0., 0., ..., 0., 0., 0.]],\n",
              "\n",
              "       [[0., 0., 0., ..., 0., 0., 0.],\n",
              "        [0., 0., 0., ..., 0., 0., 0.],\n",
              "        [0., 0., 0., ..., 0., 0., 0.],\n",
              "        ...,\n",
              "        [0., 0., 0., ..., 0., 0., 0.],\n",
              "        [0., 0., 0., ..., 0., 0., 0.],\n",
              "        [0., 0., 0., ..., 0., 0., 0.]],\n",
              "\n",
              "       ...,\n",
              "\n",
              "       [[0., 0., 0., ..., 0., 0., 0.],\n",
              "        [0., 0., 0., ..., 0., 0., 0.],\n",
              "        [0., 0., 0., ..., 0., 0., 0.],\n",
              "        ...,\n",
              "        [0., 0., 0., ..., 0., 0., 0.],\n",
              "        [0., 0., 0., ..., 0., 0., 0.],\n",
              "        [0., 0., 0., ..., 0., 0., 0.]],\n",
              "\n",
              "       [[0., 0., 0., ..., 0., 0., 0.],\n",
              "        [0., 0., 0., ..., 0., 0., 0.],\n",
              "        [0., 0., 0., ..., 0., 0., 0.],\n",
              "        ...,\n",
              "        [0., 0., 0., ..., 0., 0., 0.],\n",
              "        [0., 0., 0., ..., 0., 0., 0.],\n",
              "        [0., 0., 0., ..., 0., 0., 0.]],\n",
              "\n",
              "       [[0., 0., 0., ..., 0., 0., 0.],\n",
              "        [0., 0., 0., ..., 0., 0., 0.],\n",
              "        [0., 0., 0., ..., 0., 0., 0.],\n",
              "        ...,\n",
              "        [0., 0., 0., ..., 0., 0., 0.],\n",
              "        [0., 0., 0., ..., 0., 0., 0.],\n",
              "        [0., 0., 0., ..., 0., 0., 0.]]])>"
            ]
          },
          "metadata": {},
          "execution_count": 105
        }
      ]
    },
    {
      "cell_type": "code",
      "source": [
        "history_2 = model_2.fit(tf.reshape(X_train, (-1, 28, 28)), y_train, epochs=10, batch_size= 32, validation_data= (tf.reshape(X_validation, (-1, 28, 28)), y_validation))"
      ],
      "metadata": {
        "colab": {
          "base_uri": "https://localhost:8080/"
        },
        "id": "nbcdwXwwsu1s",
        "outputId": "063f9f0e-968d-459c-a063-831a824a5594"
      },
      "execution_count": null,
      "outputs": [
        {
          "output_type": "stream",
          "name": "stdout",
          "text": [
            "Epoch 1/10\n",
            "1050/1050 [==============================] - 6s 6ms/step - loss: 0.4471 - acc: 0.8639 - val_loss: 0.2424 - val_acc: 0.9242\n",
            "Epoch 2/10\n",
            "1050/1050 [==============================] - 6s 6ms/step - loss: 0.1546 - acc: 0.9535 - val_loss: 0.1341 - val_acc: 0.9602\n",
            "Epoch 3/10\n",
            "1050/1050 [==============================] - 6s 6ms/step - loss: 0.1154 - acc: 0.9650 - val_loss: 0.1276 - val_acc: 0.9593\n",
            "Epoch 4/10\n",
            "1050/1050 [==============================] - 6s 6ms/step - loss: 0.0952 - acc: 0.9708 - val_loss: 0.1009 - val_acc: 0.9696\n",
            "Epoch 5/10\n",
            "1050/1050 [==============================] - 6s 6ms/step - loss: 0.0848 - acc: 0.9740 - val_loss: 0.0881 - val_acc: 0.9737\n",
            "Epoch 6/10\n",
            "1050/1050 [==============================] - 6s 6ms/step - loss: 0.0745 - acc: 0.9770 - val_loss: 0.1004 - val_acc: 0.9683\n",
            "Epoch 7/10\n",
            "1050/1050 [==============================] - 6s 6ms/step - loss: 0.0684 - acc: 0.9788 - val_loss: 0.0835 - val_acc: 0.9740\n",
            "Epoch 8/10\n",
            "1050/1050 [==============================] - 6s 6ms/step - loss: 0.0630 - acc: 0.9808 - val_loss: 0.0812 - val_acc: 0.9756\n",
            "Epoch 9/10\n",
            "1050/1050 [==============================] - 6s 6ms/step - loss: 0.0578 - acc: 0.9817 - val_loss: 0.0742 - val_acc: 0.9782\n",
            "Epoch 10/10\n",
            "1050/1050 [==============================] - 6s 6ms/step - loss: 0.0551 - acc: 0.9826 - val_loss: 0.0702 - val_acc: 0.9781\n"
          ]
        }
      ]
    },
    {
      "cell_type": "code",
      "source": [
        "model_1.summary(), model_1_normalised.summary(), model_2.summary()"
      ],
      "metadata": {
        "colab": {
          "base_uri": "https://localhost:8080/"
        },
        "id": "yLrNejZwwIay",
        "outputId": "beda1478-2cf4-45fb-c773-3fee1e6db410"
      },
      "execution_count": null,
      "outputs": [
        {
          "output_type": "stream",
          "name": "stdout",
          "text": [
            "Model: \"sequential_3\"\n",
            "_________________________________________________________________\n",
            " Layer (type)                Output Shape              Param #   \n",
            "=================================================================\n",
            " dense_9 (Dense)             (None, 10)                7850      \n",
            "                                                                 \n",
            " dense_10 (Dense)            (None, 10)                110       \n",
            "                                                                 \n",
            " dense_11 (Dense)            (None, 10)                110       \n",
            "                                                                 \n",
            "=================================================================\n",
            "Total params: 8,070\n",
            "Trainable params: 8,070\n",
            "Non-trainable params: 0\n",
            "_________________________________________________________________\n",
            "Model: \"sequential_4\"\n",
            "_________________________________________________________________\n",
            " Layer (type)                Output Shape              Param #   \n",
            "=================================================================\n",
            " dense_12 (Dense)            (None, 10)                7850      \n",
            "                                                                 \n",
            " dense_13 (Dense)            (None, 10)                110       \n",
            "                                                                 \n",
            " dense_14 (Dense)            (None, 10)                110       \n",
            "                                                                 \n",
            "=================================================================\n",
            "Total params: 8,070\n",
            "Trainable params: 8,070\n",
            "Non-trainable params: 0\n",
            "_________________________________________________________________\n",
            "Model: \"sequential_22\"\n",
            "_________________________________________________________________\n",
            " Layer (type)                Output Shape              Param #   \n",
            "=================================================================\n",
            " conv2d_51 (Conv2D)          (None, 28, 28, 10)        100       \n",
            "                                                                 \n",
            " max_pooling2d_50 (MaxPoolin  (None, 14, 14, 10)       0         \n",
            " g2D)                                                            \n",
            "                                                                 \n",
            " conv2d_52 (Conv2D)          (None, 14, 14, 10)        910       \n",
            "                                                                 \n",
            " max_pooling2d_51 (MaxPoolin  (None, 7, 7, 10)         0         \n",
            " g2D)                                                            \n",
            "                                                                 \n",
            " conv2d_53 (Conv2D)          (None, 7, 7, 10)          910       \n",
            "                                                                 \n",
            " max_pooling2d_52 (MaxPoolin  (None, 3, 3, 10)         0         \n",
            " g2D)                                                            \n",
            "                                                                 \n",
            " flatten_17 (Flatten)        (None, 90)                0         \n",
            "                                                                 \n",
            " dense_32 (Dense)            (None, 10)                910       \n",
            "                                                                 \n",
            "=================================================================\n",
            "Total params: 2,830\n",
            "Trainable params: 2,830\n",
            "Non-trainable params: 0\n",
            "_________________________________________________________________\n"
          ]
        },
        {
          "output_type": "execute_result",
          "data": {
            "text/plain": [
              "(None, None, None)"
            ]
          },
          "metadata": {},
          "execution_count": 147
        }
      ]
    },
    {
      "cell_type": "markdown",
      "source": [
        "### We can see the CNN is performing much better with less epochs compare to normal DNNs\n",
        "### It also has 1/4 trainable parameters compare to other models"
      ],
      "metadata": {
        "id": "vlmbh1lNwZsr"
      }
    },
    {
      "cell_type": "code",
      "source": [
        "X_train = tf.cast(tf.constant(testdf), tf.float64) / 255.\n"
      ],
      "metadata": {
        "id": "H4EY1-wXwnnW"
      },
      "execution_count": null,
      "outputs": []
    },
    {
      "cell_type": "code",
      "source": [
        "X_train"
      ],
      "metadata": {
        "colab": {
          "base_uri": "https://localhost:8080/"
        },
        "id": "INT9aiJVw_kK",
        "outputId": "562a941f-c3d0-4789-eaf1-f8c514669b49"
      },
      "execution_count": null,
      "outputs": [
        {
          "output_type": "execute_result",
          "data": {
            "text/plain": [
              "<tf.Tensor: shape=(28000, 784), dtype=float64, numpy=\n",
              "array([[0., 0., 0., ..., 0., 0., 0.],\n",
              "       [0., 0., 0., ..., 0., 0., 0.],\n",
              "       [0., 0., 0., ..., 0., 0., 0.],\n",
              "       ...,\n",
              "       [0., 0., 0., ..., 0., 0., 0.],\n",
              "       [0., 0., 0., ..., 0., 0., 0.],\n",
              "       [0., 0., 0., ..., 0., 0., 0.]])>"
            ]
          },
          "metadata": {},
          "execution_count": 150
        }
      ]
    },
    {
      "cell_type": "code",
      "source": [
        "def plot_random_test_sample_predictions(sample):\n",
        "  if sample == None:\n",
        "    random_index = random.randint(0, 28000)\n",
        "    sample = X_train[random_index]\n",
        "  sample_reshaped = tf.reshape(sample, (-1, 28, 28))\n",
        "  prediction = model_2.predict(sample_reshaped)\n",
        "  label = tf.argmax(prediction[0])\n",
        "  plt.imshow(tf.squeeze(sample_reshaped), cmap=\"Greys\",)\n",
        "  plt.xlabel(f\"label predicted: {label} with {prediction[0][label]*100: .5f}% accuracy\")\n",
        "  return prediction"
      ],
      "metadata": {
        "id": "BB41HmVbw5st"
      },
      "execution_count": null,
      "outputs": []
    },
    {
      "cell_type": "code",
      "source": [
        "plot_random_test_sample_predictions()"
      ],
      "metadata": {
        "colab": {
          "base_uri": "https://localhost:8080/",
          "height": 278
        },
        "id": "S-u_IdAkxtG2",
        "outputId": "ab787f2b-9a0c-4b6a-f39e-0fa0f0063bdd"
      },
      "execution_count": null,
      "outputs": [
        {
          "output_type": "display_data",
          "data": {
            "image/png": "[encoded data removed]",
            "text/plain": [
              "<Figure size 432x288 with 1 Axes>"
            ]
          },
          "metadata": {
            "needs_background": "light"
          }
        }
      ]
    },
    {
      "cell_type": "code",
      "source": [
        "g1 = tf.random.Generator.from_seed(1)\n",
        "random_image = tf.cast(g1.normal(shape=[28, 28]), tf.float64)/255.\n",
        "predicitons = plot_random_test_sample_predictions(random_image)\n",
        "tf.reduce_mean(predicitons) #we can see this image was assigned to number 5\n",
        "#but the mean of the predicitons is 0.47 which means each class on average has a 47% chance\n",
        "#to accept this image => this prediciton can be said is random"
      ],
      "metadata": {
        "colab": {
          "base_uri": "https://localhost:8080/",
          "height": 296
        },
        "id": "kk0NrOnny_Uo",
        "outputId": "f62e5934-eb5f-4803-f102-090848eb425b"
      },
      "execution_count": null,
      "outputs": [
        {
          "output_type": "execute_result",
          "data": {
            "text/plain": [
              "<tf.Tensor: shape=(), dtype=float32, numpy=0.473315>"
            ]
          },
          "metadata": {},
          "execution_count": 258
        },
        {
          "output_type": "display_data",
          "data": {
            "image/png": "[encoded data removed]",
            "text/plain": [
              "<Figure size 432x288 with 1 Axes>"
            ]
          },
          "metadata": {
            "needs_background": "light"
          }
        }
      ]
    }
  ]
}